{
 "cells": [
  {
   "cell_type": "code",
   "execution_count": 1,
   "id": "fbdaacaa",
   "metadata": {},
   "outputs": [
    {
     "name": "stdout",
     "output_type": "stream",
     "text": [
      "20\n"
     ]
    }
   ],
   "source": [
    "def summ(num):                # defining the function\n",
    "    sum = 0\n",
    "    for i in num:              # adding the given inputs \n",
    "        sum+=i \n",
    "    return sum\n",
    "num = (8,2,3,0,7)           # input\n",
    "print(summ(num))"
   ]
  },
  {
   "cell_type": "code",
   "execution_count": null,
   "id": "f38cc86a",
   "metadata": {},
   "outputs": [],
   "source": []
  }
 ],
 "metadata": {
  "kernelspec": {
   "display_name": "Python 3 (ipykernel)",
   "language": "python",
   "name": "python3"
  },
  "language_info": {
   "codemirror_mode": {
    "name": "ipython",
    "version": 3
   },
   "file_extension": ".py",
   "mimetype": "text/x-python",
   "name": "python",
   "nbconvert_exporter": "python",
   "pygments_lexer": "ipython3",
   "version": "3.10.1"
  }
 },
 "nbformat": 4,
 "nbformat_minor": 5
}
